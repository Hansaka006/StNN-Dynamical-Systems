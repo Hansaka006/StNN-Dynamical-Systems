{
  "cells": [
    {
      "cell_type": "markdown",
      "metadata": {
        "id": "zE-pzg__0R9R"
      },
      "source": [
        "# Lorenz System"
      ]
    },
    {
      "cell_type": "code",
      "execution_count": 2,
      "metadata": {},
      "outputs": [],
      "source": [
        "import time\n",
        "import torch\n",
        "import torch_levenberg_marquardt as tlm\n",
        "from bokeh.plotting import figure, output_notebook, show\n",
        "from torch.utils.data import TensorDataset"
      ]
    },
    {
      "cell_type": "code",
      "execution_count": 3,
      "metadata": {
        "id": "u6-qpkbLB_wp"
      },
      "outputs": [],
      "source": [
        "import numpy as np\n",
        "import matplotlib.pyplot as plt\n",
        "from matplotlib import rcParams\n",
        "from mpl_toolkits.mplot3d import Axes3D\n",
        "from scipy import integrate\n",
        "\n",
        "rcParams.update({'font.size': 18})\n",
        "plt.rcParams['figure.figsize'] = [12, 12]"
      ]
    },
    {
      "cell_type": "code",
      "execution_count": null,
      "metadata": {
        "colab": {
          "base_uri": "https://localhost:8080/",
          "height": 961
        },
        "id": "IvXspm7RBhyS",
        "outputId": "2fa5c51b-2bfb-46af-d7c2-4a55b10766e3"
      },
      "outputs": [],
      "source": [
        "## Simulate the Lorenz System\n",
        "\n",
        "dt = 0.01\n",
        "T = 50\n",
        "t = np.arange(0,T+dt,dt)\n",
        "beta = 8/3\n",
        "sigma = 10\n",
        "rho = 28\n",
        "\n",
        "fig,ax = plt.subplots(1,1,subplot_kw={'projection': '3d'})\n",
        "\n",
        "\n",
        "def lorenz_deriv(x_y_z, t0, sigma=sigma, beta=beta, rho=rho):\n",
        "    x, y, z = x_y_z\n",
        "    return [sigma * (y - x), x * (rho - z) - y, x * y - beta * z]\n",
        "\n",
        "np.random.seed(123)\n",
        "x0 = (0,1,20)\n",
        "\n",
        "x_t = integrate.odeint(lorenz_deriv, x0, t,rtol=10**(-10),atol=10**(-11)*np.ones_like(x0))\n",
        "\n",
        "x, y, z = x_t.T\n",
        "ax.plot(x, y, z,linewidth=1, color='b')\n",
        "ax.scatter(x0[0],x0[1],x0[2],color='r')\n",
        "fig.patch.set_facecolor('none')\n",
        "ax.patch.set_facecolor('none')\n",
        "#plt.scatter(10,10,10,color='r')\n",
        "ax.set_xlabel('X-axis')\n",
        "ax.set_ylabel('Y-axis')\n",
        "ax.set_zlabel('Z-axis')\n",
        "ax.view_init(18, -113)\n",
        "ax.set_xticks([])\n",
        "ax.set_yticks([])\n",
        "ax.set_zticks([])\n",
        "fig.patch.set_facecolor('none')\n",
        "ax.patch.set_facecolor('none')\n",
        "ax.spines['top'].set_visible(False)\n",
        "ax.spines['right'].set_visible(False)\n",
        "ax.spines['bottom'].set_visible(False)\n",
        "ax.spines['left'].set_visible(False)\n",
        "plt.show()"
      ]
    },
    {
      "cell_type": "code",
      "execution_count": 4,
      "metadata": {},
      "outputs": [
        {
          "data": {
            "text/plain": [
              "(5001, 3)"
            ]
          },
          "execution_count": 4,
          "metadata": {},
          "output_type": "execute_result"
        }
      ],
      "source": [
        "x_t.shape"
      ]
    },
    {
      "cell_type": "code",
      "execution_count": 5,
      "metadata": {},
      "outputs": [],
      "source": [
        "import pandas as pd\n",
        "\n",
        "input_df = pd.read_csv('input_data.csv', dtype='float32')\n",
        "output_df = pd.read_csv('output_data.csv', dtype='float32')"
      ]
    },
    {
      "cell_type": "code",
      "execution_count": 6,
      "metadata": {},
      "outputs": [
        {
          "name": "stdout",
          "output_type": "stream",
          "text": [
            "9.87387825931768     float32\n",
            "15.7331598105593     float32\n",
            "-9.56745368736952    float32\n",
            "dtype: object\n"
          ]
        }
      ],
      "source": [
        "print(output_df.dtypes)"
      ]
    },
    {
      "cell_type": "code",
      "execution_count": 7,
      "metadata": {},
      "outputs": [],
      "source": [
        "input_x = torch.tensor(input_df.values)\n",
        "output_x = torch.tensor(output_df.values)"
      ]
    },
    {
      "cell_type": "markdown",
      "metadata": {
        "id": "lhmkN-Gqw3Ns"
      },
      "source": [
        "SNN"
      ]
    },
    {
      "cell_type": "code",
      "execution_count": 5,
      "metadata": {},
      "outputs": [],
      "source": [
        "import numpy as np\n",
        "from scipy import integrate\n",
        "import matplotlib.pyplot as plt\n",
        "from mpl_toolkits.mplot3d import Axes3D"
      ]
    },
    {
      "cell_type": "code",
      "execution_count": null,
      "metadata": {
        "colab": {
          "base_uri": "https://localhost:8080/",
          "height": 992
        },
        "id": "olc_8oXjoBzX",
        "outputId": "c22a2b0e-f579-4442-eb34-6567ed7215ed"
      },
      "outputs": [],
      "source": [
        "plt.rcParams['figure.figsize'] = [6, 6]\n",
        "plt.rcParams['font.size'] = 10\n",
        "# Parameters\n",
        "dt = 0.01\n",
        "T = 8\n",
        "t = np.arange(0, T + dt, dt)\n",
        "beta = 8 / 3\n",
        "sigma = 10\n",
        "rho = 28\n",
        "\n",
        "# Lorenz system derivatives\n",
        "def lorenz_deriv(x_y_z, t0, sigma=sigma, beta=beta, rho=rho):\n",
        "    x, y, z = x_y_z\n",
        "    return [sigma * (y - x), x * (rho - z) - y, x * y - beta * z]\n",
        "\n",
        "# Initial condition and random perturbations\n",
        "np.random.seed(123)\n",
        "x0 = np.array([0, 1, 20])\n",
        "num_trajectories = 100\n",
        "perturbation_magnitude = 1\n",
        "\n",
        "# Prepare the plot\n",
        "fig, ax = plt.subplots(1, 1, subplot_kw={'projection': '3d'})\n",
        "#ax.scatter(x0[0], x0[1], x0[2], color='r', label='Initial Conditions')\n",
        "\n",
        "input = []\n",
        "output = []\n",
        "# Generate trajectories\n",
        "for i in range(num_trajectories):\n",
        "    perturbed_x0 = x0 + np.random.uniform(-perturbation_magnitude, perturbation_magnitude, size=x0.shape)\n",
        "    x_t = integrate.odeint(lorenz_deriv, perturbed_x0, t, rtol=1e-12, atol=1e-12 * np.ones_like(x0))\n",
        "    x, y, z = x_t.T\n",
        "    ax.plot(x, y, z, linewidth=1)\n",
        "    ax.scatter(x[0], y[0], z[0], color='r')\n",
        "    input.append(x_t[:-1])\n",
        "    output.append(x_t[1:])\n",
        "    if i==(num_trajectories-1):\n",
        "        ax.scatter(x[0], y[0], z[0], color='r', label='Initial Conditions')\n",
        "    #print(x[0], y[0], z[0])\n",
        "\n",
        "# Add labels\n",
        "#ax.set_title('Lorenz System with Random Perturbations')\n",
        "ax.set_xlabel('X Axis', fontsize=15, labelpad=10)\n",
        "ax.set_ylabel('Y Axis', fontsize=15, labelpad=10)\n",
        "ax.set_zlabel('Z Axis', fontsize=15, labelpad=10)\n",
        "ax.legend(loc='upper right', bbox_to_anchor=(0.9, 0.8))\n",
        "plt.tight_layout() \n",
        "ax.set_box_aspect(aspect=None, zoom=0.85)\n",
        "#plt.subplots_adjust(top=0.5, bottom=0.1) \n",
        "plt.savefig(\"lorenz_trajectories.png\", format=\"png\", bbox_inches=\"tight\", transparent=True, dpi=1200)\n",
        "#plt.savefig(\"lorenz_trajectories.pdf\", format=\"pdf\", bbox_inches=\"tight\", transparent=True)\n",
        "# Display the plot interactively\n",
        "plt.show()\n"
      ]
    },
    {
      "cell_type": "code",
      "execution_count": null,
      "metadata": {
        "colab": {
          "base_uri": "https://localhost:8080/"
        },
        "id": "cdCdvyczw5Lg",
        "outputId": "493d18de-dead-499c-b329-bfffe5d1e635"
      },
      "outputs": [
        {
          "name": "stdout",
          "output_type": "stream",
          "text": [
            "Input shape: torch.Size([80000, 3])\n"
          ]
        }
      ],
      "source": [
        "# Convert each array to a PyTorch tensor and concatenate them\n",
        "input_x = torch.cat([torch.tensor(trajecotry, dtype=torch.float32) for trajecotry in input], dim=0)\n",
        "\n",
        "# Check the shape of the resulting tensor\n",
        "print(\"Input shape:\", input_x.shape)"
      ]
    },
    {
      "cell_type": "code",
      "execution_count": 5,
      "metadata": {
        "colab": {
          "base_uri": "https://localhost:8080/"
        },
        "id": "A0fbD5u8w5JP",
        "outputId": "6491156b-b25f-40dc-dd9f-9a8fd16952b6"
      },
      "outputs": [
        {
          "name": "stdout",
          "output_type": "stream",
          "text": [
            "Output shape: torch.Size([80000, 3])\n"
          ]
        }
      ],
      "source": [
        "# Convert each array to a PyTorch tensor and concatenate them\n",
        "output_x = torch.cat([torch.tensor(trajecotry, dtype=torch.float32) for trajecotry in output], dim=0)\n",
        "\n",
        "# Check the shape of the resulting tensor\n",
        "print(\"Output shape:\", output_x.shape)"
      ]
    },
    {
      "cell_type": "code",
      "execution_count": 6,
      "metadata": {},
      "outputs": [],
      "source": [
        "import pandas as pd"
      ]
    },
    {
      "cell_type": "code",
      "execution_count": 45,
      "metadata": {},
      "outputs": [],
      "source": [
        "df_input = pd.DataFrame(input_x)\n",
        "df_output = pd.DataFrame(output_x)\n",
        "df_input.to_csv('input_lorenz.csv', index=False)\n",
        "df_output.to_csv('output_lorenz.csv', index=False)\n"
      ]
    },
    {
      "cell_type": "code",
      "execution_count": 8,
      "metadata": {
        "colab": {
          "base_uri": "https://localhost:8080/"
        },
        "id": "RFqbM4uru_eD",
        "outputId": "084adcb5-9591-42d6-850e-9a28c416441a"
      },
      "outputs": [
        {
          "data": {
            "text/plain": [
              "tensor([ 0.4114,  0.6018, 18.9441])"
            ]
          },
          "execution_count": 8,
          "metadata": {},
          "output_type": "execute_result"
        }
      ],
      "source": [
        "input_x[1]"
      ]
    },
    {
      "cell_type": "code",
      "execution_count": 9,
      "metadata": {
        "colab": {
          "base_uri": "https://localhost:8080/"
        },
        "id": "ce8pinibvDI_",
        "outputId": "a4c7eca0-c999-4eaf-8995-b13c35864fdd"
      },
      "outputs": [
        {
          "name": "stdout",
          "output_type": "stream",
          "text": [
            "tensor([ 0.4114,  0.6018, 18.9441])\n"
          ]
        }
      ],
      "source": [
        "print(output_x[0])"
      ]
    },
    {
      "cell_type": "code",
      "execution_count": 4,
      "metadata": {
        "id": "uZA3b0cpe-Ug"
      },
      "outputs": [],
      "source": [
        "import torch\n",
        "import torch.nn as nn\n",
        "import torch.optim as optim\n",
        "from torch.utils.data import DataLoader, Dataset"
      ]
    },
    {
      "cell_type": "code",
      "execution_count": 8,
      "metadata": {
        "id": "qu5lnLv2i-E1"
      },
      "outputs": [],
      "source": [
        "class RadialBasisFunction(nn.Module):\n",
        "    def __init__(self):\n",
        "        super(RadialBasisFunction, self).__init__()\n",
        "\n",
        "    def forward(self, x):\n",
        "        return torch.exp(-torch.pow(x, 2))\n"
      ]
    },
    {
      "cell_type": "code",
      "execution_count": 9,
      "metadata": {},
      "outputs": [],
      "source": [
        "import torch_levenberg_marquardt as tlm"
      ]
    },
    {
      "cell_type": "code",
      "execution_count": 6,
      "metadata": {},
      "outputs": [],
      "source": [
        "# Set PyTorch to use high precision for matrix multiplication\n",
        "torch.set_float32_matmul_precision('high')\n",
        "\n",
        "# Detect CUDA device for acceleration\n",
        "#device = torch.device('cuda' if torch.cuda.is_available() else 'cpu')\n",
        "#print(f'Using device: {device}')\n",
        "device = 'cpu'"
      ]
    },
    {
      "cell_type": "code",
      "execution_count": 11,
      "metadata": {
        "id": "f6anEQTSfDsU"
      },
      "outputs": [],
      "source": [
        "# # Neural Network Model\n",
        "# class SimpleNN(nn.Module):\n",
        "#     def __init__(self):\n",
        "#         super(SimpleNN, self).__init__()\n",
        "#         self.fc = nn.Sequential(\n",
        "#             nn.Linear(3, 30),\n",
        "#             #nn.ReLU(),\n",
        "#             nn.LeakyReLU(negative_slope=0.02),\n",
        "#             #RadialBasisFunction(),\n",
        "#             nn.Linear(30, 30),\n",
        "#             #nn.Sigmoid(),\n",
        "#             nn.LeakyReLU(negative_slope=0.02),\n",
        "#             #nn.Linear(30, 30),\n",
        "#             #nn.LeakyReLU(negative_slope=0.02),\n",
        "#             #nn.Sigmoid(),\n",
        "#             nn.Linear(30, 3)\n",
        "#         )\n",
        "\n",
        "#     def forward(self, x):\n",
        "#         return self.fc(x)"
      ]
    },
    {
      "cell_type": "code",
      "execution_count": 7,
      "metadata": {},
      "outputs": [],
      "source": [
        "# %%\n",
        "# Define a function to create the neural network model\n",
        "def create_model() -> torch.nn.Module:\n",
        "    return torch.nn.Sequential(\n",
        "        torch.nn.Linear(3, 30),\n",
        "        torch.nn.Tanh(),\n",
        "        torch.nn.Linear(30, 30),\n",
        "        torch.nn.Sigmoid(),\n",
        "        torch.nn.Linear(30, 30),\n",
        "        torch.nn.ReLU(),\n",
        "        torch.nn.Linear(30, 3),\n",
        "    ).to(device)"
      ]
    },
    {
      "cell_type": "code",
      "execution_count": 12,
      "metadata": {
        "id": "eoRiC2UvfWv4"
      },
      "outputs": [],
      "source": [
        "# # Custom Dataset for sequential data\n",
        "# class TimeSeriesDataset(Dataset):\n",
        "#     def __init__(self, input, output):\n",
        "#         # Generate (x, y) pairs from sequential data\n",
        "#         self.x = input\n",
        "#         self.y = output\n",
        "\n",
        "#         # Shuffle the pairs\n",
        "#         #indices = np.random.permutation(len(self.x))\n",
        "#         #self.x = self.x[indices]\n",
        "#         #self.y = self.y[indices]\n",
        "\n",
        "#     def __len__(self):\n",
        "#         return len(self.x)\n",
        "\n",
        "#     def __getitem__(self, index):\n",
        "#         return self.x[index], self.y[index]"
      ]
    },
    {
      "cell_type": "code",
      "execution_count": 13,
      "metadata": {},
      "outputs": [],
      "source": [
        "from torch.utils.data import TensorDataset, DataLoader, random_split\n",
        "\n",
        "# Define dataset\n",
        "dataset = TensorDataset(input_x, output_x)\n",
        "\n",
        "# Split sizes: 80% training, 20% validation\n",
        "train_size = int(0.8 * len(dataset))  # 80% of 80,000\n",
        "val_size = len(dataset) - train_size  # Remaining 20%\n",
        "\n",
        "# Split the dataset\n",
        "train_dataset, val_dataset = random_split(dataset, [train_size, val_size])\n"
      ]
    },
    {
      "cell_type": "code",
      "execution_count": 14,
      "metadata": {},
      "outputs": [],
      "source": [
        "# Create dataset and dataloader\n",
        "#train_dataset = TensorDataset(input_x, output_x)\n",
        "train_loader = tlm.utils.FastDataLoader(\n",
        "    train_dataset,\n",
        "    batch_size=1000,\n",
        "    repeat=10,\n",
        "    shuffle=True,\n",
        "    device=device,\n",
        ")\n",
        "\n",
        "val_loader = tlm.utils.FastDataLoader(\n",
        "    val_dataset,\n",
        "    batch_size=1000,\n",
        "    repeat=10,\n",
        "    shuffle=True,\n",
        "    device=device,\n",
        ")"
      ]
    },
    {
      "cell_type": "code",
      "execution_count": 15,
      "metadata": {
        "id": "q0UyTiQ6fKtf"
      },
      "outputs": [],
      "source": [
        "# # # Prepare data\n",
        "# # def prepare_data(input, output):\n",
        "# #     dataset = TimeSeriesDataset(input, output)\n",
        "# #     return DataLoader(dataset, batch_size=32, shuffle=True)\n",
        "\n",
        "# # Training function\n",
        "# def train_model(model, dataloader, criterion, optimizer, epochs=20):\n",
        "#     model.train()\n",
        "#     for epoch in range(epochs):\n",
        "#         total_loss = 0\n",
        "#         for x, y in dataloader:\n",
        "#             x, y = x.float(), y.float()\n",
        "#             optimizer.zero_grad()\n",
        "#             outputs = model(x)\n",
        "#             loss = criterion(outputs, y)\n",
        "#             loss.backward()\n",
        "#             optimizer.step()\n",
        "#             total_loss += loss.item()\n",
        "#         print(f\"Epoch {epoch+1}/{epochs}, Loss: {total_loss / len(dataloader):.8f}\")\n"
      ]
    },
    {
      "cell_type": "code",
      "execution_count": null,
      "metadata": {
        "colab": {
          "base_uri": "https://localhost:8080/"
        },
        "id": "Ae4cAsjOw5GE",
        "outputId": "eb7328fc-4c54-41be-ca9a-711e2e0bccc9"
      },
      "outputs": [],
      "source": [
        "# Example usage\n",
        "if __name__ == \"__main__\":\n",
        "    # Simulated data for demonstration (replace with your actual data)\n",
        "    data = x_t  # Random data: 50,001 samples of (x, y, z)\n",
        "\n",
        "    # Prepare dataset and dataloader\n",
        "    #dataloader = prepare_data(input_x, output_x)\n",
        "\n",
        "    # Initialize model, criterion, and optimizer\n",
        "    model = create_model()\n",
        "\n",
        "    module_lm = tlm.training.LevenbergMarquardtModule(\n",
        "    model=model,\n",
        "    loss_fn=tlm.loss.MSELoss(),\n",
        "    learning_rate=1.0,\n",
        "    attempts_per_step=20,\n",
        "    solve_method='qr',\n",
        "    )\n",
        "\n",
        "    loss_all, val_loss_all = tlm.utils.fit(\n",
        "    module_lm,\n",
        "    train_loader,\n",
        "    epochs=20,\n",
        "    overwrite_progress_bar = False,\n",
        "    val_loader=val_loader,\n",
        "    )\n",
        "\n",
        "    #criterion = nn.MSELoss()  # Mean Squared Error for regression tasks\n",
        "    #optimizer = optim.Adam(model.parameters(), lr=0.001)\n",
        "\n",
        "    # Train the model\n",
        "    #train_model(model, dataloader, criterion, optimizer, epochs=1000)\n",
        "\n",
        "    # Save the model\n",
        "    #torch.save(model.state_dict(), \"time_series_model.pth\")\n"
      ]
    },
    {
      "cell_type": "code",
      "execution_count": 22,
      "metadata": {},
      "outputs": [
        {
          "data": {
            "image/png": "[encoded data removed]",
            "text/plain": [
              "<Figure size 800x600 with 1 Axes>"
            ]
          },
          "metadata": {},
          "output_type": "display_data"
        }
      ],
      "source": [
        "# Plot the loss curve\n",
        "loss_all_cpu = [loss_item.cpu().numpy() for loss_item in loss_all]\n",
        "plt.figure(figsize=(8, 6))\n",
        "plt.plot(range(1, len(loss_all_cpu) + 1), loss_all_cpu, linestyle=\"-\", color=\"b\")\n",
        "plt.title(\"Training Loss Curve\")\n",
        "plt.xlabel(\"Steps\")\n",
        "plt.ylabel(\"Loss\")\n",
        "plt.yscale(\"log\")\n",
        "plt.grid(True)\n",
        "plt.show()"
      ]
    },
    {
      "cell_type": "code",
      "execution_count": 20,
      "metadata": {},
      "outputs": [
        {
          "data": {
            "image/png": "[encoded data removed]",
            "text/plain": [
              "<Figure size 800x600 with 1 Axes>"
            ]
          },
          "metadata": {},
          "output_type": "display_data"
        }
      ],
      "source": [
        "\n",
        "# Plot the loss curve\n",
        "loss_all_cpu = [loss_item for loss_item in val_loss_all]\n",
        "plt.figure(figsize=(8, 6))\n",
        "plt.plot(range(1, len(loss_all_cpu) + 1), loss_all_cpu, linestyle=\"-\", color=\"b\")\n",
        "plt.title(\"Training Loss Curve\")\n",
        "plt.xlabel(\"Steps\")\n",
        "plt.ylabel(\"Loss\")\n",
        "plt.yscale(\"log\")\n",
        "plt.grid(True)\n",
        "plt.show()"
      ]
    },
    {
      "cell_type": "code",
      "execution_count": 31,
      "metadata": {},
      "outputs": [
        {
          "name": "stdout",
          "output_type": "stream",
          "text": [
            "Model saved to 'trained_model.pth'\n"
          ]
        }
      ],
      "source": [
        "import torch\n",
        "\n",
        "# Define a function to save the trained model\n",
        "def save_model(model: torch.nn.Module, file_path: str):\n",
        "    # Save the model's state dictionary\n",
        "    torch.save(model.state_dict(), file_path)\n",
        "\n",
        "# Save the trained model to a file\n",
        "save_model(model, \"ANN_model_new.pth\")\n",
        "print(\"Model saved to 'trained_model.pth'\")\n"
      ]
    },
    {
      "cell_type": "code",
      "execution_count": 23,
      "metadata": {},
      "outputs": [
        {
          "name": "stdout",
          "output_type": "stream",
          "text": [
            "Loss curve saved to 'loss_curve.csv'\n"
          ]
        }
      ],
      "source": [
        "import pandas as pd\n",
        "\n",
        "# Create a DataFrame for the loss values\n",
        "loss_df = pd.DataFrame({\n",
        "    \"Step\": range(1, len(loss_all_cpu) + 1),\n",
        "    \"Loss\": loss_all_cpu\n",
        "})\n",
        "\n",
        "# Save the DataFrame to a CSV file\n",
        "loss_df.to_csv(\"ANN_loss_curve_new_train.csv\", index=False)\n",
        "print(\"Loss curve saved to 'loss_curve.csv'\")\n"
      ]
    },
    {
      "cell_type": "code",
      "execution_count": 24,
      "metadata": {},
      "outputs": [
        {
          "name": "stdout",
          "output_type": "stream",
          "text": [
            "Total number of weights: 2073\n"
          ]
        }
      ],
      "source": [
        "# Calculate the total number of weights (trainable parameters)\n",
        "total_weights = sum(p.numel() for p in model.parameters() if p.requires_grad)\n",
        "\n",
        "print(f\"Total number of weights: {total_weights}\")"
      ]
    },
    {
      "cell_type": "code",
      "execution_count": 11,
      "metadata": {},
      "outputs": [
        {
          "name": "stdout",
          "output_type": "stream",
          "text": [
            "Model successfully loaded!\n"
          ]
        },
        {
          "name": "stderr",
          "output_type": "stream",
          "text": [
            "/tmp/ipykernel_779/1160779535.py:4: FutureWarning: You are using `torch.load` with `weights_only=False` (the current default value), which uses the default pickle module implicitly. It is possible to construct malicious pickle data which will execute arbitrary code during unpickling (See https://github.com/pytorch/pytorch/blob/main/SECURITY.md#untrusted-models for more details). In a future release, the default value for `weights_only` will be flipped to `True`. This limits the functions that could be executed during unpickling. Arbitrary objects will no longer be allowed to be loaded via this mode unless they are explicitly allowlisted by the user via `torch.serialization.add_safe_globals`. We recommend you start setting `weights_only=True` for any use case where you don't have full control of the loaded file. Please open an issue on GitHub for any issues related to this experimental feature.\n",
            "  model.load_state_dict(torch.load(file_path, map_location=device))  # Load the state dictionary\n"
          ]
        }
      ],
      "source": [
        "# Load the saved model\n",
        "def load_model(file_path: str, device: torch.device) -> torch.nn.Module:\n",
        "    model = create_model().to(device)  # Initialize the model\n",
        "    model.load_state_dict(torch.load(file_path, map_location=device))  # Load the state dictionary\n",
        "    model.eval()  # Set the model to evaluation mode\n",
        "    return model\n",
        "\n",
        "# Example usage\n",
        "device = torch.device(\"cuda\" if torch.cuda.is_available() else \"cpu\")\n",
        "model_path = \"ANN_model.pth\"  # Path to your saved model\n",
        "loaded_model = load_model(model_path, \"cpu\")\n",
        "\n",
        "print(\"Model successfully loaded!\")"
      ]
    },
    {
      "cell_type": "code",
      "execution_count": 25,
      "metadata": {},
      "outputs": [],
      "source": [
        "loaded_model = model"
      ]
    },
    {
      "cell_type": "code",
      "execution_count": null,
      "metadata": {
        "colab": {
          "base_uri": "https://localhost:8080/",
          "height": 961
        },
        "id": "YeS0yM1_w4vm",
        "outputId": "691f309d-2c4a-458b-e5da-44dc58175a0e"
      },
      "outputs": [],
      "source": [
        "#Set model to evaluation mode\n",
        "plt.rcParams['font.size'] = 10\n",
        "plt.rcParams['figure.figsize'] = [6, 6]\n",
        "#model = loaded_model.to(\"cpu\")\n",
        "loaded_model.to(\"cpu\")\n",
        "loaded_model.eval()\n",
        "\n",
        "# Generate a trajectory using the model\n",
        "def generate_trajectory(initial_condition, num_steps):\n",
        "    trajectory = []\n",
        "    current_state = torch.tensor(initial_condition, dtype=torch.float32)  # Convert initial condition to tensor\n",
        "\n",
        "    for _ in range(num_steps):\n",
        "        # Predict the next state\n",
        "        next_state = loaded_model(current_state)\n",
        "\n",
        "        # Append the predicted state to the trajectory\n",
        "        trajectory.append(next_state.detach().numpy())\n",
        "\n",
        "        # Use the output of the model as input for the next step\n",
        "        current_state = next_state\n",
        "\n",
        "    return np.array(trajectory)\n",
        "\n",
        "# Example initial condition (x0, y0, z0)\n",
        "\n",
        "initial_condition = x_t[4000]\n",
        "\n",
        "# Number of steps for the trajectory\n",
        "num_steps = 600\n",
        "\n",
        "# Generate the trajectory\n",
        "trajectory = generate_trajectory(initial_condition, num_steps)\n",
        "\n",
        "# Plot the trajectory\n",
        "x, y, z = trajectory.T\n",
        "fig = plt.figure()\n",
        "ax = fig.add_subplot(111, projection='3d')\n",
        "ax.plot(x, y, z, label=\"Generated Trajectory by FFNN\")\n",
        "\n",
        "x_a, y_a, z_a = x_t[4000:4600].T\n",
        "ax.plot(x_a, y_a, z_a,linewidth=1, label=\"Actual Trajectory\")\n",
        "\n",
        "\n",
        "# Highlight the starting points with red circles\n",
        "ax.scatter(x[0], y[0], z[0], color='red', s=100, marker='o')  # Starting point of generated trajectory\n",
        "ax.scatter(x_a[1], y_a[1], z_a[1], color='red', s=100, label=\"Initial Condition\", marker='o')  # Starting point of actual trajectory\n",
        "\n",
        "\n",
        "ax.set_xlabel('X Axis', fontsize=15, labelpad=10)\n",
        "ax.set_ylabel('Y Axis', fontsize=15, labelpad=10)\n",
        "ax.set_zlabel('Z Axis', fontsize=15, labelpad=10)\n",
        "ax.legend(loc='upper right', bbox_to_anchor=(0.9, 0.9))\n",
        "plt.tight_layout() \n",
        "ax.set_box_aspect(aspect=None, zoom=0.85)\n",
        "#ax.view_init(elev=0, azim=0) \n",
        "plt.savefig(\"predict_ANN_3D.pdf\", format=\"pdf\", bbox_inches=\"tight\", transparent=True)\n",
        "plt.show()"
      ]
    },
    {
      "cell_type": "code",
      "execution_count": null,
      "metadata": {
        "colab": {
          "base_uri": "https://localhost:8080/"
        },
        "id": "tcZ9oCiYNoG6",
        "outputId": "881fabd2-68a1-4a66-8167-50e7de948eea"
      },
      "outputs": [],
      "source": [
        "# Predict on Test Data\n",
        "#x_pred = model.simulate(x_test[0], t_test)\n",
        "plt.rcParams['font.size'] = 15\n",
        "x_pred = trajectory\n",
        "x_test = x_t[4000:4600]\n",
        "t_test = t[4000:4600]\n",
        "# Calculate Prediction Error\n",
        "mse = np.mean((x_pred - x_test) ** 2, axis=0)\n",
        "print(f\"Mean Squared Error for each variable (x, y, z): {mse}\")\n",
        "print(f\"Total Mean Squared Error: {np.mean(mse)}\")\n",
        "\n",
        "# Plot Results\n",
        "fig = plt.figure(figsize=(12, 6))\n",
        "time = np.arange(x_test.shape[0]) * 0.01\n",
        "\n",
        "# Plot x\n",
        "plt.subplot(3, 1, 1)\n",
        "plt.plot(time, x_test[:, 0], label=\"Ground Truth\", color=\"blue\")\n",
        "plt.plot(time, x_pred[:, 0], label=\"Predicted\", linestyle=\"--\", color=\"red\")\n",
        "plt.ylabel(\"x\")\n",
        "plt.legend()\n",
        "\n",
        "# Plot y\n",
        "plt.subplot(3, 1, 2)\n",
        "plt.plot(time, x_test[:, 1], label=\"True y\", color=\"blue\")\n",
        "plt.plot(time, x_pred[:, 1], label=\"Predicted y\", linestyle=\"--\", color=\"red\")\n",
        "plt.ylabel(\"y\")\n",
        "\n",
        "# Plot z\n",
        "plt.subplot(3, 1, 3)\n",
        "plt.plot(time, x_test[:, 2], label=\"True z\", color=\"blue\")\n",
        "plt.plot(time, x_pred[:, 2], label=\"Predicted z\", linestyle=\"--\", color=\"red\")\n",
        "plt.ylabel(\"z\")\n",
        "plt.xlabel(\"Time\")\n",
        "#plt.legend()\n",
        "# Save the plot to a PDF file\n",
        "output_file = \"predicted_ANN.pdf\"\n",
        "plt.savefig(output_file, format=\"pdf\", bbox_inches=\"tight\")\n",
        "#plt.tight_layout()\n",
        "plt.show()"
      ]
    },
    {
      "cell_type": "code",
      "execution_count": null,
      "metadata": {},
      "outputs": [],
      "source": [
        "import numpy as np\n",
        "import pandas as pd\n",
        "import matplotlib.pyplot as plt\n",
        "\n",
        "# Assuming x_pred and x_test are already defined as in your code.\n",
        "\n",
        "# Calculate Prediction Error\n",
        "error = (x_pred - x_test) ** 2  # Squared error for each variable (x, y, z)\n",
        "mean_error_per_timestep = np.mean(error, axis=1)  # Mean error across x, y, z for each time step\n",
        "cumulative_mean_error = np.cumsum(mean_error_per_timestep) / np.arange(1, len(mean_error_per_timestep) + 1)  # Cumulative mean error\n",
        "\n",
        "# Save to CSV\n",
        "output_csv_file = \"cumulative_mean_error_ANN.csv\"\n",
        "pd.DataFrame({\"Time Step\": np.arange(len(cumulative_mean_error)), \"Cumulative Mean Error\": cumulative_mean_error}).to_csv(output_csv_file, index=False)\n",
        "\n",
        "# Plot Mean Error Variation\n",
        "plt.figure(figsize=(10, 6))\n",
        "plt.plot(cumulative_mean_error, label=\"Cumulative Mean Error\", color=\"blue\")\n",
        "plt.title(\"Cumulative Mean Error Variation\")\n",
        "plt.xlabel(\"Time\")\n",
        "plt.ylabel(\"Mean Error\")\n",
        "plt.legend()\n",
        "plt.grid()\n",
        "\n",
        "# # Save the plot to a PDF file\n",
        "# output_pdf_file = \"cumulative_mean_error_single_curve.pdf\"\n",
        "# plt.savefig(output_pdf_file, format=\"pdf\", bbox_inches=\"tight\")\n",
        "# plt.tight_layout()\n",
        "# plt.show()\n",
        "\n",
        "# print(f\"Cumulative mean error saved to {output_csv_file}\")\n"
      ]
    },
    {
      "cell_type": "code",
      "execution_count": null,
      "metadata": {},
      "outputs": [],
      "source": []
    }
  ],
  "metadata": {
    "colab": {
      "provenance": []
    },
    "kernelspec": {
      "display_name": "pytorch_gpu_env",
      "language": "python",
      "name": "python3"
    },
    "language_info": {
      "codemirror_mode": {
        "name": "ipython",
        "version": 3
      },
      "file_extension": ".py",
      "mimetype": "text/x-python",
      "name": "python",
      "nbconvert_exporter": "python",
      "pygments_lexer": "ipython3",
      "version": "3.10.16"
    }
  },
  "nbformat": 4,
  "nbformat_minor": 0
}
